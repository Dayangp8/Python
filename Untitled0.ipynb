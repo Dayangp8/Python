{
  "nbformat": 4,
  "nbformat_minor": 0,
  "metadata": {
    "colab": {
      "name": "Untitled0.ipynb",
      "provenance": [],
      "collapsed_sections": []
    },
    "kernelspec": {
      "name": "python3",
      "display_name": "Python 3"
    }
  },
  "cells": [
    {
      "cell_type": "markdown",
      "metadata": {
        "id": "OWoRWUaJG73C",
        "colab_type": "text"
      },
      "source": [
        "Tahun kabisat terjadi 4 tahun sekali. Sehingga, yang tergolong tahun kabisat adalah tahun yang dapat dibagi 4 dan dibagi 400. Meskipun 4 dan 100 merupakan faktor dari 400, tahun yang dapat habis dibagi 100 bukan merupakan tahun kabisat. Seperti tahun 1900. \n",
        "Berikut ini program untuk menentukan tahun kabisat. Dengan inputan user."
      ]
    },
    {
      "cell_type": "code",
      "metadata": {
        "id": "bt1S1Lx4G5SO",
        "colab_type": "code",
        "colab": {}
      },
      "source": [
        "def thn_kab(tahun):\n",
        "  if tahun%400==0:\n",
        "    print (\"Tahun\", tahun, \"merupakan Tahun Kabisat\")\n",
        "    return True\n",
        "  elif tahun%4==0:\n",
        "    if tahun%100==0:\n",
        "      print(\"Tahun\", tahun, \"bukan merupakan Tahun Kabisat\")\n",
        "      return False\n",
        "    else:\n",
        "      print(\"Tahun\", tahun,\"merupakan Tahun Kabisat\")\n",
        "      return True\n",
        "  else :\n",
        "    print(\"Tahun\",tahun, \"bukan merupakan Tahun Kabisat\")\n",
        "    return False"
      ],
      "execution_count": 23,
      "outputs": []
    },
    {
      "cell_type": "code",
      "metadata": {
        "id": "-u7Ueun7Mfyl",
        "colab_type": "code",
        "colab": {
          "base_uri": "https://localhost:8080/",
          "height": 52
        },
        "outputId": "4c937db1-2fc6-4c18-d9ed-fbf959b202d8"
      },
      "source": [
        "try:\n",
        "  th=int(input(\"Masukkan Tahun : \"))\n",
        "except:\n",
        "  print(\"Masukkan harus berupa angka !!\")\n",
        "hasil = thn_kab(th) "
      ],
      "execution_count": 24,
      "outputs": [
        {
          "output_type": "stream",
          "text": [
            "Masukkan Tahun : 2000\n",
            "Tahun 2000 merupakan Tahun Kabisat\n"
          ],
          "name": "stdout"
        }
      ]
    },
    {
      "cell_type": "markdown",
      "metadata": {
        "id": "sTVHFqfoPWx0",
        "colab_type": "text"
      },
      "source": [
        "Test data untuk tahun-tahun tertentu :"
      ]
    },
    {
      "cell_type": "code",
      "metadata": {
        "id": "Mm2Ykx-AMBsY",
        "colab_type": "code",
        "colab": {
          "base_uri": "https://localhost:8080/",
          "height": 156
        },
        "outputId": "4e60decf-8b01-4041-b857-c1f0842d00ce"
      },
      "source": [
        "tesData = [1900, 2000, 2016, 1987]\n",
        "tesHasil = [False, True, True, False]\n",
        "for i in range(len(tesData)):\n",
        "\tthn = tesData[i]\n",
        "\tprint(thn,\"->\",end=\"\")\n",
        "\thsl = thn_kab(thn)\n",
        "\tif hsl == tesHasil[i]:\n",
        "\t\tprint(\"TRUE\")\n",
        "\telse:\n",
        "\t\tprint(\"FALSE\")"
      ],
      "execution_count": 22,
      "outputs": [
        {
          "output_type": "stream",
          "text": [
            "1900 ->Tahun 1900 bukan merupakan Tahun Kabisat\n",
            "TRUE\n",
            "2000 ->Tahun 2000 merupakan Tahun Kabisat\n",
            "TRUE\n",
            "2016 ->Tahun 2016 merupakan Tahun Kabisat\n",
            "TRUE\n",
            "1987 ->Tahun 1987 bukan merupakan Tahun Kabisat\n",
            "TRUE\n"
          ],
          "name": "stdout"
        }
      ]
    }
  ]
}